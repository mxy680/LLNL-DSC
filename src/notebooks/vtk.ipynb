{
 "cells": [
  {
   "cell_type": "code",
   "execution_count": 1,
   "metadata": {},
   "outputs": [
    {
     "name": "stderr",
     "output_type": "stream",
     "text": [
      "\u001b[0m\u001b[31m2024-07-29 15:10:32.009 (   2.353s) [            F324]vtkUnstructuredGridRead:88     ERR| vtkUnstructuredGridReader (0x108eabd70): Cannot read dataset type: structured_points\u001b[0m\n",
      "2024-07-29 15:10:32.269 Python[10015:62244] WARNING: Secure coding is not enabled for restorable state! Enable secure coding by implementing NSApplicationDelegate.applicationSupportsSecureRestorableState: and returning YES.\n"
     ]
    },
    {
     "ename": "",
     "evalue": "",
     "output_type": "error",
     "traceback": [
      "\u001b[1;31mThe Kernel crashed while executing code in the current cell or a previous cell. \n",
      "\u001b[1;31mPlease review the code in the cell(s) to identify a possible cause of the failure. \n",
      "\u001b[1;31mClick <a href='https://aka.ms/vscodeJupyterKernelCrash'>here</a> for more info. \n",
      "\u001b[1;31mView Jupyter <a href='command:jupyter.viewOutput'>log</a> for further details."
     ]
    }
   ],
   "source": [
    "import vtk\n",
    "\n",
    "def read_vtk_file(file_path):\n",
    "    reader = vtk.vtkUnstructuredGridReader()\n",
    "    reader.SetFileName(file_path)\n",
    "    reader.Update()\n",
    "    return reader.GetOutput()\n",
    "\n",
    "def create_actor_from_vtk_data(vtk_data, color, opacity=1.0):\n",
    "    mapper = vtk.vtkDataSetMapper()\n",
    "    mapper.SetInputData(vtk_data)\n",
    "    actor = vtk.vtkActor()\n",
    "    actor.SetMapper(mapper)\n",
    "    actor.GetProperty().SetColor(color)  # Set the color\n",
    "    actor.GetProperty().SetOpacity(opacity)  # Set the opacity\n",
    "    return actor\n",
    "\n",
    "def render_actors(actors):\n",
    "    renderer = vtk.vtkRenderer()\n",
    "    for actor in actors:\n",
    "        renderer.AddActor(actor)\n",
    "    \n",
    "    renderer.SetBackground(0.1, 0.2, 0.4)  # Background color\n",
    "    render_window = vtk.vtkRenderWindow()\n",
    "    render_window.AddRenderer(renderer)\n",
    "    render_window_interactor = vtk.vtkRenderWindowInteractor()\n",
    "    render_window_interactor.SetRenderWindow(render_window)\n",
    "    render_window.Render()\n",
    "    render_window_interactor.Start()\n",
    "\n",
    "# Path to your .vtk file\n",
    "heart_mesh_vtk_file = '../data/heart_mesh.vtk'\n",
    "points_vtk_file = '../data/points.vtk'\n",
    "\n",
    "# Read the VTK files\n",
    "heart_mesh_data = read_vtk_file(heart_mesh_vtk_file)\n",
    "points_data = read_vtk_file(points_vtk_file)\n",
    "\n",
    "# Create actors\n",
    "heart_mesh_actor = create_actor_from_vtk_data(heart_mesh_data, color=(1, 0, 0), opacity=0.15)  # Red color with 15% opacity\n",
    "points_actor = create_actor_from_vtk_data(points_data, color=(0, 1, 0))  # Green color for points\n",
    "\n",
    "# Render points\n",
    "render_actors([heart_mesh_actor])"
   ]
  }
 ],
 "metadata": {
  "kernelspec": {
   "display_name": "env",
   "language": "python",
   "name": "python3"
  },
  "language_info": {
   "codemirror_mode": {
    "name": "ipython",
    "version": 3
   },
   "file_extension": ".py",
   "mimetype": "text/x-python",
   "name": "python",
   "nbconvert_exporter": "python",
   "pygments_lexer": "ipython3",
   "version": "3.11.9"
  }
 },
 "nbformat": 4,
 "nbformat_minor": 2
}
